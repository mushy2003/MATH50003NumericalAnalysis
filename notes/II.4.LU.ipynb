{
 "cells": [
  {
   "cell_type": "markdown",
   "metadata": {},
   "source": [
    "# II.4 PLU and Cholesky factorisations\n",
    "\n",
    "In this chapter we consider the following factorisations for square real invetible  matrices $A ∈ ℝ^{n × n}$:\n",
    "1. The _LU factorisation_:\n",
    "$ A = LU$ where $L$ is lower triangular and $U$ is upper triangular. This is equivalent to Gaussian elimination without pivoting,\n",
    "so may not exist (e.g. if $A[1,1] = 0$).\n",
    "1. The _PLU factorisation_:\n",
    "$\n",
    "A = P^⊤ LU\n",
    "$\n",
    "where $P$ is a permutation matrix, $L$ is lower triangular and $U$ is upper triangular. This is equivalent to Gaussian elimination with pivoting.\n",
    "It always exists but may in extremely rare cases be unstable. \n",
    "2. For a square, _symmetric positive definite_ ($𝐱^⊤ A 𝐱 > 0$ for all $𝐱 ∈ ℝ^n$, $𝐱 ≠ 0$) \n",
    "matrix the LU decompostion has a special form which is called the _Cholesky factorisation_:\n",
    "$\n",
    "A = L L^⊤\n",
    "$.\n",
    "3. We also discuss timing and stability of the different factorisations."
   ]
  },
  {
   "cell_type": "code",
   "execution_count": 1,
   "metadata": {
    "execution": {
     "iopub.execute_input": "2023-02-14T11:45:57.893000Z",
     "iopub.status.busy": "2023-02-14T11:45:57.439000Z",
     "iopub.status.idle": "2023-02-14T11:46:03.036000Z",
     "shell.execute_reply": "2023-02-14T11:46:02.987000Z"
    }
   },
   "outputs": [],
   "source": [
    "using LinearAlgebra, Plots, BenchmarkTools"
   ]
  },
  {
   "cell_type": "markdown",
   "metadata": {},
   "source": [
    "## 1. LU Factorisation\n",
    "\n",
    "Just as Gram–Schmidt can be reinterpreted as a reduced QR factorisation,\n",
    "Gaussian elimination  can be interpreted as an LU factorisation.\n",
    "\n",
    "\n",
    "\n",
    "Consider the following set of $n × n$ lower triangular\n",
    "matrices which equals identity apart from one-column:\n",
    "$$\n",
    "{\\cal L}_j := \\left\\{I + \\begin{bmatrix} 𝟎_j \\\\ 𝐥_j \\end{bmatrix} 𝐞_j^⊤ : 𝐥_j ∈ ℝ^{n-j} \\right\\}\n",
    "$$\n",
    "where  $𝟎_j$ denotes the zero vector of length $j$. \n",
    "That is, if $L_j ∈ {\\cal L}_j$ then it is equal to the identity matrix apart from in the $j$ th column:\n",
    "$$\n",
    "L_j = \\begin{bmatrix}\n",
    "        1 \\\\ & {⋱} \\\\ && 1 \\\\\n",
    "                    && ℓ_{j+1,j} & 1 \\\\\n",
    "                    && ⋮ && \\dots \\\\\n",
    "                    && ℓ_{n,j} & & & 1 \\end{bmatrix} = \n",
    "$$\n",
    "\n",
    "These satisify the following special properties:\n",
    "\n",
    "**Proposition 1 (one-column lower triangular inverse)**\n",
    "If $L_j ∈ {\\cal L}_j$ then\n",
    "$$\n",
    "L_j^{-1}  = I - \\begin{bmatrix} 𝟎_j \\\\ 𝐥_j \\end{bmatrix} 𝐞_j^⊤ = \\begin{bmatrix}\n",
    "        1 \\\\ & ⋱ \\\\ && 1 \\\\\n",
    "                    &&-ℓ_{j+1,j} & 1 \\\\\n",
    "                    &&⋮ && \\dots \\\\\n",
    "                    &&-ℓ_{n,j} & & & 1 \\end{bmatrix} ∈ {\\cal L}_j.\n",
    "$$\n",
    "\n",
    "\n",
    "**Proposition 2 (one-column lower triangular multiplication)**\n",
    "If $L_j ∈ {\\cal L}_j$ and $L_k ∈ {\\cal L}_k$ for $k ≥ j$ then\n",
    "$$\n",
    "L_j L_k =  I + \\begin{bmatrix} 𝟎_j \\\\ 𝐥_j \\end{bmatrix} 𝐞_j^⊤ +  \\begin{bmatrix} 𝟎_k \\\\ 𝐥_k \\end{bmatrix} 𝐞_k^⊤\n",
    "$$\n",
    "\n",
    "\n",
    "**Lemma 1 (one-column lower triangular with pivoting)**\n",
    "If $σ$ is a permutation that leaves the first $j$\n",
    "rows fixed (that is, $σ_ℓ = ℓ$ for $ℓ ≤ j$) and $L_j ∈ {\\cal L}_j$ then\n",
    "$$\n",
    "P_σ L_j=  \\tilde L_j P_σ\n",
    "$$\n",
    "where $\\tilde L_j ∈ {\\cal L}_j$.\n",
    "\n",
    "**Proof**\n",
    "Write\n",
    "$$\n",
    "P_σ = \\begin{bmatrix} I_j \\\\ & P_τ \\end{bmatrix}\n",
    "$$\n",
    "where $τ$ is the permutation with Cauchy notation\n",
    "$$\n",
    "\\begin{pmatrix}\n",
    "1 & ⋯ & n-j \\\\\n",
    "σ_{j+1}-j & ⋯ & σ_n-j\n",
    "\\end{pmatrix}\n",
    "$$\n",
    "Then we have\n",
    "$$\n",
    "P_σ L_j = P_σ + \\begin{bmatrix} 𝟎_j \\\\ P_τ 𝐥_j \\end{bmatrix} 𝐞_j^⊤ =\n",
    "\\underbrace{(I +  \\begin{bmatrix} 𝟎_j \\\\ P_τ 𝐥_j \\end{bmatrix} 𝐞_j^⊤)}_{\\tilde L_j} P_σ\n",
    "$$\n",
    "noting that $𝐞_j^⊤ P_σ = 𝐞_j^⊤$ (as $σ_j = j$). \n",
    "∎\n",
    "\n",
    "\n",
    "Now consider standard Gaussian elimation where one row-reduces\n",
    "to introduce zeros column-by-column. We will mimick the computation of the QR factorisation\n",
    "to view this as a _triangular triangularisation_.\n",
    "\n",
    "\n",
    "Consider the matrix\n",
    "$$\n",
    "L_1 = \\begin{bmatrix} 1 \\\\ -{a_{21} \\over a_{11}} & 1 \\\\ ⋮ &&⋱ \\\\\n",
    "                -{a_{n1} \\over a_{11}}  &&& 1\n",
    "                \\end{bmatrix} = I - \\begin{bmatrix} 0 \\\\ {𝐚_1[2:n] \\over 𝐚_1[1]} \\end{bmatrix}  𝐞_1^⊤.\n",
    "$$\n",
    "We then have\n",
    "$$\n",
    "L_1 A =  \\begin{bmatrix} u_{11} & u_{12} & ⋯ & u_{1n} \\\\ \n",
    "& 𝐚_2^1 & ⋯ & 𝐚_n^1   \\end{bmatrix}\n",
    "$$\n",
    "where $𝐚_j^1 := (L_1 𝐚_j)[2:n]$ and $u_{1j} = a_{1j}$. But now consider\n",
    "$$\n",
    "L_2 := I - \\begin{bmatrix} 0 \\\\ {𝐚_2^1[2:n-1] \\over 𝐚_2^1[1]} \\end{bmatrix}  𝐞_1^⊤.\n",
    "$$\n",
    "Then\n",
    "$$\n",
    "L_2 L_1 A = \\begin{bmatrix} u_{11} & u_{12} & u_{13} & ⋯ & u_{1n} \\\\ \n",
    "    & u_{22} & u_{23} & ⋯ & u_{2n} \\\\\n",
    "&& 𝐚_3^2 & ⋯ & 𝐚_n^2   \\end{bmatrix}\n",
    "$$\n",
    "where \n",
    "$$\n",
    "u_{2j} :=  (𝐚_j^1)[1] \\qquad \\hbox{and} \\qquad 𝐚_j^2 := (L_2 𝐚_j^1)[2:n-1]\n",
    "$$\n",
    "Thus the first two columns are triangular. \n",
    "\n",
    "The inductive construction is again clear. If we define $𝐚_j^0 := 𝐚_j$ we\n",
    "have the construction\n",
    "$$\n",
    "\\begin{align*}\n",
    "L_j &:= I - \\begin{bmatrix} 𝟎_j \\\\ {𝐚_{j+1}^j[2:n-j] \\over 𝐚_{j+1}^j[1]} \\end{bmatrix} 𝐞_j^⊤ \\\\\n",
    "𝐚_j^k &:= (L_k 𝐚_j^{k-1})[2:n-k+1]\n",
    " \\\\\n",
    "u_{kj} &:= (L_k 𝐚_j^{k-1})[1]\n",
    "\\end{align*}\n",
    "$$\n",
    "Then\n",
    "$$\n",
    "L_{n-1} ⋯ L_1 A = \\underbrace{\\begin{bmatrix} \n",
    "u_{11} & ⋯ & u_{1n} \\\\ & ⋱ & ⋮\\\\\n",
    "                                        && u_{nn}\\end{bmatrix}}_U\n",
    "$$\n",
    "i.e.\n",
    "$$\n",
    "A = \\underbrace{L_{1}^{-1} ⋯ L_{n-1}^{-1}}_L U.\n",
    "$$\n",
    "\n",
    "Writing\n",
    "$$\n",
    "L_j = I + \\begin{bmatrix} 𝟎_j \\\\ \\ell_{j+1,j} \\\\ ⋮ \\\\ \\ell_{n,j} \\end{bmatrix} 𝐞_j^⊤\n",
    "$$\n",
    "and using the properties of inversion and multiplication we therefore deduce\n",
    "$$\n",
    "L = \\begin{bmatrix} 1 \\\\ -\\ell_{21} & 1 \\\\\n",
    "-\\ell_{31} & -\\ell_{32} & 1 \\\\\n",
    " ⋮ & ⋮ & ⋱ & ⋱ \\\\\n",
    "    -\\ell_{n1} & -\\ell_{n2} & ⋯ & -\\ell_{n,n-1} & 1\n",
    "    \\end{bmatrix}\n",
    "$$\n",
    "\n",
    "\n",
    "\n",
    "\n",
    "**Example 1 (computer)**\n",
    "We will do a numerical example (by-hand is equivalent to Gaussian elimination).\n",
    "The first lower triangular matrix is:"
   ]
  },
  {
   "cell_type": "code",
   "execution_count": 2,
   "metadata": {
    "execution": {
     "iopub.execute_input": "2023-02-14T11:46:03.187000Z",
     "iopub.status.busy": "2023-02-14T11:46:03.038000Z",
     "iopub.status.idle": "2023-02-14T11:46:05.575000Z",
     "shell.execute_reply": "2023-02-14T11:46:05.574000Z"
    }
   },
   "outputs": [
    {
     "data": {
      "text/plain": [
       "4×4 Matrix{Float64}:\n",
       "  1.0       -0.0  -0.0  -0.0\n",
       " -0.28594    1.0  -0.0  -0.0\n",
       " -0.286831  -0.0   1.0  -0.0\n",
       " -0.052006  -0.0  -0.0   1.0"
      ]
     },
     "execution_count": 2,
     "metadata": {},
     "output_type": "execute_result"
    }
   ],
   "source": [
    "n = 4\n",
    "A = randn(n,n)\n",
    "L₁ = I -[0; A[2:end,1]/A[1,1]] * [1 zeros(1,n-1)]"
   ]
  },
  {
   "cell_type": "markdown",
   "metadata": {},
   "source": [
    "Which indeed introduces zeros in the first column:"
   ]
  },
  {
   "cell_type": "code",
   "execution_count": 3,
   "metadata": {
    "execution": {
     "iopub.execute_input": "2023-02-14T11:46:05.614000Z",
     "iopub.status.busy": "2023-02-14T11:46:05.614000Z",
     "iopub.status.idle": "2023-02-14T11:46:05.619000Z",
     "shell.execute_reply": "2023-02-14T11:46:05.619000Z"
    }
   },
   "outputs": [
    {
     "data": {
      "text/plain": [
       "4×4 Matrix{Float64}:\n",
       " -2.35039   0.545465   -0.595962   0.343301\n",
       "  0.0       0.350853    0.963532  -0.545325\n",
       "  0.0      -0.0781349   0.732061  -0.194058\n",
       "  0.0       0.229514    0.745914   1.03162"
      ]
     },
     "execution_count": 3,
     "metadata": {},
     "output_type": "execute_result"
    }
   ],
   "source": [
    "A₁ = L₁*A"
   ]
  },
  {
   "cell_type": "markdown",
   "metadata": {},
   "source": [
    "Now we make the next lower triangular operator:"
   ]
  },
  {
   "cell_type": "code",
   "execution_count": 4,
   "metadata": {
    "execution": {
     "iopub.execute_input": "2023-02-14T11:46:05.623000Z",
     "iopub.status.busy": "2023-02-14T11:46:05.623000Z",
     "iopub.status.idle": "2023-02-14T11:46:05.723000Z",
     "shell.execute_reply": "2023-02-14T11:46:05.723000Z"
    }
   },
   "outputs": [
    {
     "data": {
      "text/plain": [
       "4×4 Matrix{Float64}:\n",
       "  1.0  -0.0       -0.0  -0.0\n",
       " -0.0   1.0       -0.0  -0.0\n",
       " -0.0   0.2227     1.0  -0.0\n",
       " -0.0  -0.654159  -0.0   1.0"
      ]
     },
     "execution_count": 4,
     "metadata": {},
     "output_type": "execute_result"
    }
   ],
   "source": [
    "L₂ = I - [0; 0; A₁[3:end,2]/A₁[2,2]] * [0 1 zeros(1,n-2)]"
   ]
  },
  {
   "cell_type": "markdown",
   "metadata": {},
   "source": [
    "So that"
   ]
  },
  {
   "cell_type": "code",
   "execution_count": 5,
   "metadata": {
    "execution": {
     "iopub.execute_input": "2023-02-14T11:46:05.727000Z",
     "iopub.status.busy": "2023-02-14T11:46:05.727000Z",
     "iopub.status.idle": "2023-02-14T11:46:05.737000Z",
     "shell.execute_reply": "2023-02-14T11:46:05.736000Z"
    }
   },
   "outputs": [
    {
     "data": {
      "text/plain": [
       "4×4 Matrix{Float64}:\n",
       " -2.35039       0.545465     -0.595962   0.343301\n",
       "  0.0           0.350853      0.963532  -0.545325\n",
       " -1.11022e-16  -1.38778e-17   0.94664   -0.315501\n",
       " -1.38778e-17   5.55112e-17   0.115612   1.38835"
      ]
     },
     "execution_count": 5,
     "metadata": {},
     "output_type": "execute_result"
    }
   ],
   "source": [
    "A₂ = L₂*L₁*A"
   ]
  },
  {
   "cell_type": "markdown",
   "metadata": {},
   "source": [
    "The last one is:"
   ]
  },
  {
   "cell_type": "code",
   "execution_count": 6,
   "metadata": {
    "execution": {
     "iopub.execute_input": "2023-02-14T11:46:05.740000Z",
     "iopub.status.busy": "2023-02-14T11:46:05.739000Z",
     "iopub.status.idle": "2023-02-14T11:46:06.057000Z",
     "shell.execute_reply": "2023-02-14T11:46:06.057000Z"
    }
   },
   "outputs": [
    {
     "data": {
      "text/plain": [
       "4×4 Matrix{Float64}:\n",
       "  1.0  -0.0  -0.0       -0.0\n",
       " -0.0   1.0  -0.0       -0.0\n",
       " -0.0  -0.0   1.0       -0.0\n",
       " -0.0  -0.0  -0.122129   1.0"
      ]
     },
     "execution_count": 6,
     "metadata": {},
     "output_type": "execute_result"
    }
   ],
   "source": [
    "L₃ = I - [0; 0; 0; A₂[4:end,3]/A₂[3,3]] * [0 0 1 zeros(1,n-3)]"
   ]
  },
  {
   "cell_type": "markdown",
   "metadata": {},
   "source": [
    "Giving us"
   ]
  },
  {
   "cell_type": "code",
   "execution_count": 7,
   "metadata": {
    "execution": {
     "iopub.execute_input": "2023-02-14T11:46:06.061000Z",
     "iopub.status.busy": "2023-02-14T11:46:06.061000Z",
     "iopub.status.idle": "2023-02-14T11:46:06.086000Z",
     "shell.execute_reply": "2023-02-14T11:46:06.085000Z"
    }
   },
   "outputs": [
    {
     "data": {
      "text/plain": [
       "4×4 Matrix{Float64}:\n",
       " -2.35039  0.545465     -0.595962   0.343301\n",
       "  0.0      0.350853      0.963532  -0.545325\n",
       "  0.0      0.0           0.94664   -0.315501\n",
       "  0.0      2.77556e-17   0.0        1.42688"
      ]
     },
     "execution_count": 7,
     "metadata": {},
     "output_type": "execute_result"
    }
   ],
   "source": [
    "U = L₃*L₂*L₁*A"
   ]
  },
  {
   "cell_type": "markdown",
   "metadata": {},
   "source": [
    "and"
   ]
  },
  {
   "cell_type": "code",
   "execution_count": 8,
   "metadata": {
    "execution": {
     "iopub.execute_input": "2023-02-14T11:46:06.089000Z",
     "iopub.status.busy": "2023-02-14T11:46:06.089000Z",
     "iopub.status.idle": "2023-02-14T11:46:06.217000Z",
     "shell.execute_reply": "2023-02-14T11:46:06.216000Z"
    }
   },
   "outputs": [
    {
     "data": {
      "text/plain": [
       "4×4 Matrix{Float64}:\n",
       " 1.0        0.0       0.0       0.0\n",
       " 0.28594    1.0       0.0       0.0\n",
       " 0.286831  -0.2227    1.0       0.0\n",
       " 0.052006   0.654159  0.122129  1.0"
      ]
     },
     "execution_count": 8,
     "metadata": {},
     "output_type": "execute_result"
    }
   ],
   "source": [
    "L = inv(L₁)*inv(L₂)*inv(L₃)"
   ]
  },
  {
   "cell_type": "markdown",
   "metadata": {},
   "source": [
    "Note how the entries of `L` are indeed identical to the negative\n",
    "lower entries of `L₁`, `L₂` and `L₃`.\n",
    "\n",
    "**Example 2 (by-hand)**\n",
    "\n",
    "Consider the matrix\n",
    "$$\n",
    "A = \\begin{bmatrix} 1 & 1 & 1 \\\\\n",
    "                    2 & 4 & 8 \\\\\n",
    "                    1 & 4 & 9\n",
    "                    \\end{bmatrix}\n",
    "$$\n",
    "We have\n",
    "$$\n",
    "L_2 L_1 A = L_2 \\begin{bmatrix}1 \\\\ \n",
    "                        -2 & 1 \\\\ -1 &  & 1 \\end{bmatrix} \\begin{bmatrix} 1 & 1 & 1 \\\\\n",
    "                    2 & 4 & 8 \\\\\n",
    "                    1 & 4 & 9\n",
    "                    \\end{bmatrix}\n",
    "    = \\begin{bmatrix}1 \\\\ & 1\\\\ & -{3 \\over 2} & 1 \n",
    "    \\end{bmatrix} \\begin{bmatrix} 1 & 1 & 1 \\\\\n",
    "                         & 2 & 6 \\\\\n",
    "                         & 3 & 8 \\end{bmatrix}\n",
    "    = \\underbrace{\\begin{bmatrix} 1 & 1 & 1 \\\\\n",
    "                         & 2 & 6 \\\\\n",
    "                         &  & -1 \\end{bmatrix}}_U\n",
    "$$\n",
    "We then deduce $L$ by taking the negative of the lower \n",
    "entries of $L_1,L_2$:\n",
    "$$\n",
    "L = \\begin{bmatrix} 1 \\\\ 2 & 1 \\\\ 1 &{3 \\over 2} & 1\n",
    "\\end{bmatrix}.\n",
    "$$\n",
    "\n",
    "\n",
    "## 2. PLU Factorisation\n",
    "\n",
    "We learned in first year linear algebra that if a diagonal entry is zero\n",
    "whe1 doing Gaussian elimnation one has to _row pivot_. For stability, \n",
    "in implementation one _always_ pivots: swap the largest in magnitude entry for the entry on the diagonal.\n",
    "In terms of a factorisation, this leads to \n",
    "$$\n",
    "L_{n-1} P_{n-1} ⋯ P_2 L_1 P_1 A = U\n",
    "$$\n",
    "where $P_j$ is a permutation that leaves rows 1 through $j-1$ fixed,\n",
    "and swaps row $j$ with a row $k \\geq j$ whose entry is maximal in absolute value.\n",
    "\n",
    "Thus we can deduce that \n",
    "$$\n",
    "L_{n-1} P_{n-1} ⋯ P_2 L_1 P_1 = \\underbrace{L_{n-1} \\tilde L_{n-2} ⋯  \\tilde L_1}_{L^{-1}}  \\underbrace{P_{n-1} ⋯ P_2 P_1}_P.\n",
    "$$\n",
    "where the tilde denotes the combined actions of swapping the permutation and lower-triangular matrices, that is,\n",
    "$$\n",
    "P_{n-1}⋯ P_{j+1} L_j = \\tilde L_j P_{n-1}⋯ P_{j+1}.\n",
    "$$\n",
    "where $\\tilde L_j ∈ {\\cal L}_j$.\n",
    "The entries of $L$ are then again the negative of the entries below the diagonal of $L_{n-1}, \\tilde L_{n-2}, \\ldots,\\tilde L_1$.\n",
    "\n",
    "\n",
    "Writing\n",
    "$$\n",
    "\\tilde L_j = I + \\begin{bmatrix} 𝟎_j \\\\ \\tilde \\ell_{j+1,j} \\\\ ⋮ \\\\ \\tilde \\ell_{n,j} \\end{bmatrix} 𝐞_j^⊤\n",
    "$$\n",
    "and using the properties of inversion and multiplication we therefore deduce\n",
    "$$\n",
    "L = \\begin{bmatrix} \n",
    "1 \\\\ \n",
    "-\\tilde \\ell_{21} & 1 \\\\\n",
    "-\\tilde \\ell_{31} & -\\tilde \\ell_{32} & 1 \\\\\n",
    " ⋮ & ⋮ & ⋱ & ⋱ \\\\\n",
    " -\\tilde \\ell_{n-1,1} & -\\tilde \\ell_{n-1,2} & ⋯ &  - \\tilde \\ell_{n-1,n-2} & 1 \\\\\n",
    "    -\\tilde \\ell_{n1} & -\\tilde \\ell_{n2} & ⋯ &  - \\tilde \\ell_{n,n-2} &  -\\ell_{n,n-1} & 1\n",
    "\\end{bmatrix}\n",
    "$$\n",
    "\n",
    "\n",
    "\n",
    "**Example 3**\n",
    "\n",
    "Again we consider the matrix\n",
    "$$\n",
    "A = \\begin{bmatrix} 1 & 1 & 1 \\\\\n",
    "                    2 & 4 & 8 \\\\\n",
    "                    1 & 4 & 9\n",
    "                    \\end{bmatrix}\n",
    "$$\n",
    "Even though $a_{11} = 1 ≠ 0$, we still pivot: placing \n",
    "the maximum entry on the diagonal to mitigate numerical errors.\n",
    "That is, we first pivot and upper triangularise the first column:\n",
    "$$\n",
    " L_1 P_1 A =  L_1\\begin{bmatrix} 0 & 1 \\\\ 1 & 0 \\\\ && 1 \\end{bmatrix}\n",
    "\\begin{bmatrix} 1 & 1 & 1 \\\\\n",
    "                    2 & 4 & 8 \\\\\n",
    "                    1 & 4 & 9\n",
    "                    \\end{bmatrix} = \n",
    "                     \\begin{bmatrix}1 \\\\ -{1 \\over 2} & 1 \\\\ -{1 \\over 2} && 1 \\end{bmatrix}\n",
    "\\begin{bmatrix} 2 & 4 & 8 \\\\\n",
    "                1 & 1 & 1 \\\\\n",
    "                    1 & 4 & 9\n",
    "                    \\end{bmatrix}\n",
    "$$\n",
    "We now pivot and upper triangularise the second column:\n",
    "$$\n",
    "  L_2 P_2 L_1 P_1 A = \n",
    "                    L_2 \\begin{bmatrix}\n",
    "                    1 \\\\ &0 & 1 \\\\ &1 & 0 \\end{bmatrix}\n",
    "\\begin{bmatrix} 2 & 4 & 8 \\\\\n",
    "                0 & -1 & -3 \\\\\n",
    "                    0 & 2 & 5\n",
    "                    \\end{bmatrix}\n",
    "                    = \\begin{bmatrix} 1\\\\ & 1 \\\\ & {1 \\over 2} & 1 \\end{bmatrix}\n",
    "\\begin{bmatrix} 2 & 4 & 8 \\\\\n",
    "                0 & 2 & 5 \\\\\n",
    "                0 & -1 & -3 \n",
    "                    \\end{bmatrix} = \n",
    "                    \\underbrace{\\begin{bmatrix} 2 & 4 & 8 \\\\\n",
    "                0 & 2 & 5 \\\\\n",
    "                0 & 0 & -{1 \\over 2}\n",
    "                    \\end{bmatrix}}_U\n",
    "$$\n",
    "We now move $P_2$ to the right:\n",
    "$$\n",
    "L_2 P_2 L_1 P_1 = \\underbrace{\\begin{bmatrix} 1\\\\ -{1 \\over 2} & 1 \\\\  -{1 \\over 2}  & {1 \\over 2} & 1 \\end{bmatrix}}_{L_2 \\tilde L_1} \\underbrace{\\begin{bmatrix} 0 & 1 & 0 \\\\ 0 & 0 & 1 \\\\ 1 & 0 & 0 \\end{bmatrix}}_P\n",
    "$$\n",
    "That is\n",
    "$$\n",
    "L = \\begin{bmatrix} 1\\\\ {1 \\over 2} & 1 \\\\  {1 \\over 2}  & -{1 \\over 2} & 1 \\end{bmatrix}\n",
    "$$\n",
    "\n",
    "We see how this example is done on a computer:"
   ]
  },
  {
   "cell_type": "code",
   "execution_count": 9,
   "metadata": {
    "execution": {
     "iopub.execute_input": "2023-02-14T11:46:06.220000Z",
     "iopub.status.busy": "2023-02-14T11:46:06.220000Z",
     "iopub.status.idle": "2023-02-14T11:46:06.587000Z",
     "shell.execute_reply": "2023-02-14T11:46:06.587000Z"
    }
   },
   "outputs": [
    {
     "data": {
      "text/plain": [
       "LU{Float64, Matrix{Float64}, Vector{Int64}}\n",
       "L factor:\n",
       "3×3 Matrix{Float64}:\n",
       " 1.0   0.0  0.0\n",
       " 0.5   1.0  0.0\n",
       " 0.5  -0.5  1.0\n",
       "U factor:\n",
       "3×3 Matrix{Float64}:\n",
       " 2.0  4.0   8.0\n",
       " 0.0  2.0   5.0\n",
       " 0.0  0.0  -0.5"
      ]
     },
     "execution_count": 9,
     "metadata": {},
     "output_type": "execute_result"
    }
   ],
   "source": [
    "A = [1 1 1;\n",
    "     2 4 8;\n",
    "     1 4 9]\n",
    "L,U,σ = lu(A) # σ is a vector encoding the permutation"
   ]
  },
  {
   "cell_type": "markdown",
   "metadata": {},
   "source": [
    "The permutation is"
   ]
  },
  {
   "cell_type": "code",
   "execution_count": 10,
   "metadata": {
    "execution": {
     "iopub.execute_input": "2023-02-14T11:46:06.590000Z",
     "iopub.status.busy": "2023-02-14T11:46:06.590000Z",
     "iopub.status.idle": "2023-02-14T11:46:06.920000Z",
     "shell.execute_reply": "2023-02-14T11:46:06.919000Z"
    }
   },
   "outputs": [
    {
     "data": {
      "text/plain": [
       "3-element Vector{Int64}:\n",
       " 2\n",
       " 3\n",
       " 1"
      ]
     },
     "execution_count": 10,
     "metadata": {},
     "output_type": "execute_result"
    }
   ],
   "source": [
    "σ"
   ]
  },
  {
   "cell_type": "markdown",
   "metadata": {},
   "source": [
    "Thus to invert a system we can do:"
   ]
  },
  {
   "cell_type": "code",
   "execution_count": 11,
   "metadata": {
    "execution": {
     "iopub.execute_input": "2023-02-14T11:46:06.923000Z",
     "iopub.status.busy": "2023-02-14T11:46:06.923000Z",
     "iopub.status.idle": "2023-02-14T11:46:07.662000Z",
     "shell.execute_reply": "2023-02-14T11:46:07.661000Z"
    }
   },
   "outputs": [
    {
     "data": {
      "text/plain": [
       "true"
      ]
     },
     "execution_count": 11,
     "metadata": {},
     "output_type": "execute_result"
    }
   ],
   "source": [
    "b = randn(3)\n",
    "U\\(L\\b[σ]) == A\\b"
   ]
  },
  {
   "cell_type": "markdown",
   "metadata": {},
   "source": [
    "Note the entries match exactly because this precisely what `\\` is using.\n",
    "\n",
    "## 3. Cholesky Factorisation\n",
    "\n",
    "Cholesky Factorisation is a form of Gaussian elimination (without pivoting)\n",
    "that exploits symmetry in the problem, resulting in a substantial speedup. \n",
    "It is only relevant for _symmetric positive definite_\n",
    "matrices.\n",
    "\n",
    "**Definition 1 (positive definite)** A square matrix $A ∈ ℝ^{n × n}$ is _positive definite_ if\n",
    "for all $𝐱 ∈ ℝ^n, x ≠ 0$ we have\n",
    "$$\n",
    "𝐱^⊤ A 𝐱 > 0\n",
    "$$\n",
    "\n",
    "First we establish some basic properties of positive definite matrices:\n",
    "\n",
    "**Proposition 3 (conj. pos. def.)** If  $A ∈ ℝ^{n × n}$ is positive definite and \n",
    "$V ∈ ℝ^{n × n}$ is non-singular then\n",
    "$$\n",
    "V^⊤ A V\n",
    "$$\n",
    "is positive definite.\n",
    "\n",
    "**Proposition 4 (diag positivity)** If $A ∈ ℝ^{n × n}$ is positive definite\n",
    "then its diagonal entries are positive: $a_{kk} > 0$.\n",
    "\n",
    "\n",
    "**Theorem 1 (subslice pos. def.)** If $A ∈ ℝ^{n × n}$ is positive definite\n",
    "and $𝐤 ∈ \\{1,\\ldots,n\\}^m$ is a vector of $m$ integers where any integer appears only once,\n",
    " then $A[𝐤,𝐤] ∈ ℝ^{m × m}$ is also\n",
    "positive definite.\n",
    "\n",
    "\n",
    "\n",
    "We leave the proofs to the problem sheets. Here is the key result:\n",
    "\n",
    "\n",
    "**Theorem 2 (Cholesky and sym. pos. def.)** A matrix $A$ is symmetric positive definite if and only if it has a Cholesky factorisation\n",
    "$$\n",
    "A = L L^⊤\n",
    "$$\n",
    "where the diagonals of $L$ are positive.\n",
    "\n",
    "**Proof** If $A$ has a Cholesky factorisation it is symmetric ($A^⊤ = (L L^⊤)^⊤ = A$) and for $𝐱 ≠ 0$ we have\n",
    "$$\n",
    "𝐱^⊤ A 𝐱 = (L𝐱)^⊤ L 𝐱 = \\|L𝐱\\|^2 > 0\n",
    "$$\n",
    "where we use the fact that $L$ is non-singular.\n",
    "\n",
    "For the other direction we will prove it by induction, with the $1 × 1$ case being trivial. \n",
    "Write\n",
    "$$\n",
    "A = \\begin{bmatrix} α & 𝐯^⊤ \\\\\n",
    "                    𝐯   & K\n",
    "                    \\end{bmatrix} = \\underbrace{\\begin{bmatrix} \\sqrt{α} \\\\ \n",
    "                                    {𝐯 \\over \\sqrt{α}} & I \\end{bmatrix}}_{L_1}\n",
    "                                    \\underbrace{\\begin{bmatrix} 1  \\\\ & K - {𝐯 𝐯^⊤ \\over α} \\end{bmatrix}}_{A_1}\n",
    "                                    \\underbrace{\\begin{bmatrix} \\sqrt{α} & {𝐯^⊤ \\over \\sqrt{α}} \\\\\n",
    "                                     & I \\end{bmatrix}}_{L_1^⊤}.\n",
    "$$\n",
    "Note that $K - {𝐯 𝐯^⊤ \\over α}$ is a subslice of $A_1 = L_1^{-1} A L_1^{-⊤}$, hence by the previous propositions is\n",
    "itself symmetric positive definite. Thus we can write \n",
    "$$\n",
    "K - {𝐯 𝐯^⊤ \\over α} = \\tilde L \\tilde L^⊤\n",
    "$$\n",
    "and hence $A = L L^⊤$ for\n",
    "$$\n",
    "L= L_1 \\begin{bmatrix}1 \\\\ & \\tilde L \\end{bmatrix}.\n",
    "$$\n",
    "satisfies $A = L L^⊤$.\n",
    "∎\n",
    "\n",
    "\n",
    "N1te hidden in this proof is a simple algorithm form computing the Cholesky factorisation.\n",
    "We define\n",
    "$$\n",
    "\\begin{align*}\n",
    "A_1 &:= A \\\\\n",
    "𝐯_k &:= A_k[2:n-k+1,1] \\\\\n",
    "α_k &:= A_k[1,1] \\\\\n",
    "A_{k+1} &:= A_k[2:n-k+1,2:n-k+1] - {𝐯_k 𝐯_k^⊤ \\over α_k}.\n",
    "\\end{align*}\n",
    "$$\n",
    "Then\n",
    "$$\n",
    "L = \\begin{bmatrix} \\sqrt{α_1} \\\\\n",
    "    {𝐯_1[1] \\over \\sqrt{α_1}}  &  \\sqrt{α_2} \\\\\n",
    "    {𝐯_1[2] \\over \\sqrt{α_1}}  & {𝐯_2[1] \\over \\sqrt{α_2}} &  \\sqrt{α_2} \\\\\n",
    "    ⋮ & ⋮ & ⋱ & ⋱ \\\\\n",
    "    {𝐯_1[n-1] \\over \\sqrt{α_1}} &{𝐯_2[n-2] \\over \\sqrt{α_2}} & ⋯ & {𝐯_{n-1}[1] \\over \\sqrt{α_{n-1}}} & \\sqrt{α_{n}}\n",
    "    \\end{bmatrix}\n",
    "$$\n",
    "\n",
    "This algorithm succeeds if and only if $A$ is symmetric positive definite.\n",
    "\n",
    "**Example 4** Consider the matrix\n",
    "$$\n",
    "A_0 = A = \\begin{bmatrix}\n",
    "2 &1 &1 &1 \\\\\n",
    "1 & 2 & 1 & 1 \\\\\n",
    "1 & 1 & 2 & 1 \\\\\n",
    "1 & 1 & 1 & 2\n",
    "\\end{bmatrix}\n",
    "$$\n",
    "Then\n",
    "$$\n",
    "A_1 = \\begin{bmatrix}\n",
    "2 &1 &1 \\\\\n",
    "1 & 2 & 1 \\\\\n",
    "1 & 1 & 2 \n",
    "\\end{bmatrix} - {1 \\over 2} \\begin{bmatrix} 1 \\\\ 1 \\\\ 1 \\end{bmatrix} \\begin{bmatrix} 1 & 1 & 1 \\end{bmatrix} =\n",
    "{1 \\over 2} \\begin{bmatrix}\n",
    "3 & 1 & 1 \\\\\n",
    "1 & 3 & 1 \\\\\n",
    "1 & 1 & 3 \n",
    "\\end{bmatrix}\n",
    "$$\n",
    "Continuing, we have \n",
    "$$\n",
    "A_2 = {1 \\over 2} \\left( \\begin{bmatrix}\n",
    "3 & 1 \\\\ 1 & 3\n",
    "\\end{bmatrix} - {1 \\over 3} \\begin{bmatrix} 1 \\\\ 1  \\end{bmatrix} \\begin{bmatrix} 1 & 1  \\end{bmatrix}\n",
    "\\right)\n",
    "= {1 \\over 3} \\begin{bmatrix} 4 & 1 \\\\ 1 & 4 \\end{bmatrix}\n",
    "$$\n",
    "Finally\n",
    "$$\n",
    "A_3 = {5 \\over 4}.\n",
    "$$\n",
    "Thus we get\n",
    "$$\n",
    "L= L_1 L_2 L_3 = \\begin{bmatrix} \\sqrt{2} \\\\ {1 \\over \\sqrt{2}} & {\\sqrt{3} \\over 2} \\\\ \n",
    "{1 \\over \\sqrt{2}} & {1 \\over \\sqrt 6} & {2 \\over \\sqrt{3}} \\\\\n",
    "{1 \\over \\sqrt{2}} & {1 \\over \\sqrt 6} & {1 \\over \\sqrt{12}} & {\\sqrt{5} \\over 2}\n",
    "\\end{bmatrix}\n",
    "$$\n",
    "\n",
    "\n",
    "# 3. Timings and Stability\n",
    "\n",
    "The different factorisations have trade-offs between speed and stability.\n",
    "First we compare the speed of the different factorisations on a symmetric positive\n",
    "definite matrix, from fastest to slowest:"
   ]
  },
  {
   "cell_type": "code",
   "execution_count": 12,
   "metadata": {
    "execution": {
     "iopub.execute_input": "2023-02-14T11:46:07.665000Z",
     "iopub.status.busy": "2023-02-14T11:46:07.665000Z",
     "iopub.status.idle": "2023-02-14T11:46:34.787000Z",
     "shell.execute_reply": "2023-02-14T11:46:34.787000Z"
    }
   },
   "outputs": [
    {
     "name": "stdout",
     "output_type": "stream",
     "text": [
      "  226.040 μs (3 allocations: 78.20 KiB)\n",
      "  67.792 μs (4 allocations: 79.08 KiB)\n",
      "  218.154 μs (7 allocations: 134.55 KiB)\n"
     ]
    }
   ],
   "source": [
    "n = 100\n",
    "A = Symmetric(rand(n,n)) + 100I # shift by 10 ensures positivity\n",
    "@btime cholesky(A);\n",
    "@btime lu(A);\n",
    "@btime qr(A);"
   ]
  },
  {
   "cell_type": "markdown",
   "metadata": {},
   "source": [
    "On my machine, `cholesky` is ~1.5x faster than `lu`,  \n",
    "which is ~2x faster than QR. \n",
    "\n",
    "\n",
    "\n",
    "In terms of stability, QR computed with Householder reflections\n",
    "(and Cholesky for positive definite matrices) are stable, \n",
    "whereas LU is usually unstable (unless the matrix\n",
    "is diagonally dominant). PLU is a very complicated story: in theory it is unstable,\n",
    "but the set of matrices for which it is unstable is extremely small, so small one does not\n",
    "normally run into them.\n",
    "\n",
    "Here is an example matrix that is in this set."
   ]
  },
  {
   "cell_type": "code",
   "execution_count": 13,
   "metadata": {
    "execution": {
     "iopub.execute_input": "2023-02-14T11:46:34.792000Z",
     "iopub.status.busy": "2023-02-14T11:46:34.791000Z",
     "iopub.status.idle": "2023-02-14T11:46:35.197000Z",
     "shell.execute_reply": "2023-02-14T11:46:35.197000Z"
    }
   },
   "outputs": [
    {
     "data": {
      "text/plain": [
       "5×5 Matrix{Int64}:\n",
       "  1   0   0   0  1\n",
       " -1   1   0   0  1\n",
       " -1  -1   1   0  1\n",
       " -1  -1  -1   1  1\n",
       " -1  -1  -1  -1  1"
      ]
     },
     "execution_count": 13,
     "metadata": {},
     "output_type": "execute_result"
    }
   ],
   "source": [
    "function badmatrix(n)\n",
    "    A = Matrix(1I, n, n)\n",
    "    A[:,end] .= 1\n",
    "    for j = 1:n-1\n",
    "        A[j+1:end,j] .= -1\n",
    "    end\n",
    "    A\n",
    "end\n",
    "A =1badmatrix(5)"
   ]
  },
  {
   "cell_type": "markdown",
   "metadata": {},
   "source": [
    "Note that pivoting will not occur (we do not pivot as the entries below the diagonal are the same magnitude as the diagonal), thus the PLU Factorisation is equivalent to an LU factorisation:"
   ]
  },
  {
   "cell_type": "code",
   "execution_count": 14,
   "metadata": {
    "execution": {
     "iopub.execute_input": "2023-02-14T11:46:35.201000Z",
     "iopub.status.busy": "2023-02-14T11:46:35.201000Z",
     "iopub.status.idle": "2023-02-14T11:46:35.206000Z",
     "shell.execute_reply": "2023-02-14T11:46:35.205000Z"
    }
   },
   "outputs": [
    {
     "data": {
      "text/plain": [
       "LU{Float64, Matrix{Float64}, Vector{Int64}}\n",
       "L factor:\n",
       "5×5 Matrix{Float64}:\n",
       "  1.0   0.0   0.0   0.0  0.0\n",
       " -1.0   1.0   0.0   0.0  0.0\n",
       " -1.0  -1.0   1.0   0.0  0.0\n",
       " -1.0  -1.0  -1.0   1.0  0.0\n",
       " -1.0  -1.0  -1.0  -1.0  1.0\n",
       "U factor:\n",
       "5×5 Matrix{Float64}:\n",
       " 1.0  0.0  0.0  0.0   1.0\n",
       " 0.0  1.0  0.0  0.0   2.0\n",
       " 0.0  0.0  1.0  0.0   4.0\n",
       " 0.0  0.0  0.0  1.0   8.0\n",
       " 0.0  0.0  0.0  0.0  16.0"
      ]
     },
     "execution_count": 14,
     "metadata": {},
     "output_type": "execute_result"
    }
   ],
   "source": [
    "L,U = lu(A)"
   ]
  },
  {
   "cell_type": "markdown",
   "metadata": {},
   "source": [
    "But here we see an issue: the last column of `U` is growing exponentially fast! Thus when `n` is large\n",
    "we get very large errors:"
   ]
  },
  {
   "cell_type": "code",
   "execution_count": 15,
   "metadata": {
    "execution": {
     "iopub.execute_input": "2023-02-14T11:46:35.209000Z",
     "iopub.status.busy": "2023-02-14T11:46:35.208000Z",
     "iopub.status.idle": "2023-02-14T11:46:35.658000Z",
     "shell.execute_reply": "2023-02-14T11:46:35.658000Z"
    }
   },
   "outputs": [
    {
     "data": {
      "text/plain": [
       "71.56223396519397"
      ]
     },
     "execution_count": 15,
     "metadata": {},
     "output_type": "execute_result"
    }
   ],
   "source": [
    "n = 100\n",
    "b = randn(n)\n",
    "A = badmatrix(n)\n",
    "norm(A\\b - qr(A)\\b) # A \\ b still uses lu"
   ]
  },
  {
   "cell_type": "markdown",
   "metadata": {},
   "source": [
    "Note `qr` is completely fine:"
   ]
  },
  {
   "cell_type": "code",
   "execution_count": 16,
   "metadata": {
    "execution": {
     "iopub.execute_input": "2023-02-14T11:46:35.662000Z",
     "iopub.status.busy": "2023-02-14T11:46:35.662000Z",
     "iopub.status.idle": "2023-02-14T11:46:37.598000Z",
     "shell.execute_reply": "2023-02-14T11:46:37.597000Z"
    }
   },
   "outputs": [
    {
     "data": {
      "text/plain": [
       "5.831209081753154871879909088243956340161382800726458686474595140797341341552407e-15"
      ]
     },
     "execution_count": 16,
     "metadata": {},
     "output_type": "execute_result"
    }
   ],
   "source": [
    "norm(qr(A)\\b - qr(big.(A)) \\b) # roughly machine precision"
   ]
  },
  {
   "cell_type": "markdown",
   "metadata": {},
   "source": [
    "Amazingly, PLU is fine if applied to a small perturbation of `A`:"
   ]
  },
  {
   "cell_type": "code",
   "execution_count": 17,
   "metadata": {
    "execution": {
     "iopub.execute_input": "2023-02-14T11:46:37.601000Z",
     "iopub.status.busy": "2023-02-14T11:46:37.600000Z",
     "iopub.status.idle": "2023-02-14T11:46:37.695000Z",
     "shell.execute_reply": "2023-02-14T11:46:37.694000Z"
    }
   },
   "outputs": [
    {
     "data": {
      "text/plain": [
       "9.946474086751813e-15"
      ]
     },
     "execution_count": 17,
     "metadata": {},
     "output_type": "execute_result"
    }
   ],
   "source": [
    "ε = 0.000001\n",
    "Aε = A .+ ε .* randn.()\n",
    "norm(Aε \\ b - qr(Aε) \\ b) # Now it matches!"
   ]
  },
  {
   "cell_type": "markdown",
   "metadata": {},
   "source": [
    "The big _open problem_ in numerical linear algebra is to prove that the set of matrices\n",
    "for which PLU fails has extremely small measure."
   ]
  }
 ],
 "metadata": {
  "kernelspec": {
   "display_name": "Julia 1.8.3",
   "language": "julia",
   "name": "julia-1.8"
  },
  "language_info": {
   "file_extension": ".jl",
   "mimetype": "application/julia",
   "name": "julia",
   "version": "1.8.3"
  }
 },
 "nbformat": 4,
 "nbformat_minor": 2
}
